{
 "cells": [
  {
   "cell_type": "markdown",
   "id": "b6a1a495-3dcb-48eb-92d2-f94bd3824e29",
   "metadata": {},
   "source": [
    "# ETL to DWH - hma"
   ]
  },
  {
   "cell_type": "code",
   "execution_count": 1,
   "id": "db6bd80c",
   "metadata": {},
   "outputs": [],
   "source": [
    "import pandas as pd\n",
    "import ast\n",
    "import numpy\n",
    "import sqlite3 as sql\n",
    "import os"
   ]
  },
  {
   "cell_type": "code",
   "execution_count": 2,
   "id": "b91b1464",
   "metadata": {},
   "outputs": [],
   "source": [
    "#vars\n",
    "input_folder = os.path.join('..','input')\n",
    "SQLITE_FILE_PATH = os.path.join('..', \"output\", \"dwh.sqlite3\")"
   ]
  },
  {
   "cell_type": "code",
   "execution_count": 3,
   "id": "23cbbc66",
   "metadata": {},
   "outputs": [
    {
     "name": "stderr",
     "output_type": "stream",
     "text": [
      "C:\\Users\\mkoenig\\AppData\\Local\\Programs\\Python\\Python39\\lib\\site-packages\\IPython\\core\\interactiveshell.py:3441: DtypeWarning: Columns (10) have mixed types.Specify dtype option on import or set low_memory=False.\n",
      "  exec(code_obj, self.user_global_ns, self.user_ns)\n"
     ]
    }
   ],
   "source": [
    "movies_df = pd.read_csv(os.path.join(input_folder,'movies_metadata.csv'))"
   ]
  },
  {
   "cell_type": "code",
   "execution_count": 4,
   "id": "4d6107ee",
   "metadata": {},
   "outputs": [],
   "source": [
    "# buggy rows\n",
    "buggy_rows = movies_df.loc[~movies_df[\"id\"].str.isdigit()]"
   ]
  },
  {
   "cell_type": "code",
   "execution_count": 5,
   "id": "8847721a",
   "metadata": {},
   "outputs": [],
   "source": [
    "movies_df.drop(buggy_rows.index, inplace=True)"
   ]
  },
  {
   "cell_type": "code",
   "execution_count": 6,
   "id": "4c02c133",
   "metadata": {},
   "outputs": [],
   "source": [
    "movies_genres = []\n",
    "genre_names = [] "
   ]
  },
  {
   "cell_type": "code",
   "execution_count": 7,
   "id": "ec3a2b0d",
   "metadata": {},
   "outputs": [],
   "source": [
    "for index, row in movies_df.iterrows():\n",
    "    genres = ast.literal_eval(row[\"genres\"])\n",
    "    for genre in genres:        \n",
    "        genre_names.append(genre)           \n",
    "        movie_genre = dict(\n",
    "            movie_id=row['id'],\n",
    "            genre_id=genre['id'],\n",
    "        )   \n",
    "        movies_genres.append(movie_genre)"
   ]
  },
  {
   "cell_type": "code",
   "execution_count": 8,
   "id": "d214f9ec",
   "metadata": {},
   "outputs": [],
   "source": [
    "movies_genres_df = pd.DataFrame(movies_genres)"
   ]
  },
  {
   "cell_type": "code",
   "execution_count": 9,
   "id": "7fa18485",
   "metadata": {},
   "outputs": [],
   "source": [
    "genre_names_df = pd.DataFrame(genre_names).drop_duplicates()"
   ]
  },
  {
   "cell_type": "code",
   "execution_count": 10,
   "id": "a040b92a",
   "metadata": {},
   "outputs": [],
   "source": [
    "movies_final_df = movies_df[['id','adult','budget','homepage','imdb_id','original_language','original_title','overview', 'popularity','poster_path','revenue','title']]"
   ]
  },
  {
   "cell_type": "code",
   "execution_count": 11,
   "id": "d7df7b85",
   "metadata": {},
   "outputs": [
    {
     "name": "stderr",
     "output_type": "stream",
     "text": [
      "C:\\Users\\mkoenig\\AppData\\Local\\Temp/ipykernel_16236/2407970741.py:1: SettingWithCopyWarning: \n",
      "A value is trying to be set on a copy of a slice from a DataFrame.\n",
      "Try using .loc[row_indexer,col_indexer] = value instead\n",
      "\n",
      "See the caveats in the documentation: https://pandas.pydata.org/pandas-docs/stable/user_guide/indexing.html#returning-a-view-versus-a-copy\n",
      "  movies_final_df['budget'] = movies_final_df['budget'].astype(int)\n",
      "C:\\Users\\mkoenig\\AppData\\Local\\Temp/ipykernel_16236/2407970741.py:2: SettingWithCopyWarning: \n",
      "A value is trying to be set on a copy of a slice from a DataFrame.\n",
      "Try using .loc[row_indexer,col_indexer] = value instead\n",
      "\n",
      "See the caveats in the documentation: https://pandas.pydata.org/pandas-docs/stable/user_guide/indexing.html#returning-a-view-versus-a-copy\n",
      "  movies_final_df['id'] = movies_final_df['id'].astype(int)\n",
      "C:\\Users\\mkoenig\\AppData\\Local\\Temp/ipykernel_16236/2407970741.py:3: SettingWithCopyWarning: \n",
      "A value is trying to be set on a copy of a slice from a DataFrame.\n",
      "Try using .loc[row_indexer,col_indexer] = value instead\n",
      "\n",
      "See the caveats in the documentation: https://pandas.pydata.org/pandas-docs/stable/user_guide/indexing.html#returning-a-view-versus-a-copy\n",
      "  movies_final_df['popularity'] = movies_final_df['popularity'].astype(float)\n"
     ]
    }
   ],
   "source": [
    "movies_final_df['budget'] = movies_final_df['budget'].astype(int)\n",
    "movies_final_df['id'] = movies_final_df['id'].astype(int)\n",
    "movies_final_df['popularity'] = movies_final_df['popularity'].astype(float)"
   ]
  },
  {
   "cell_type": "code",
   "execution_count": 12,
   "id": "8ce7637d",
   "metadata": {},
   "outputs": [],
   "source": [
    "con = sql.connect(SQLITE_FILE_PATH)"
   ]
  },
  {
   "cell_type": "code",
   "execution_count": 13,
   "id": "a63899e0",
   "metadata": {},
   "outputs": [],
   "source": [
    "genre_names_df.to_sql('genres', con=con, if_exists='replace', index=False)"
   ]
  },
  {
   "cell_type": "code",
   "execution_count": 14,
   "id": "59e25da1",
   "metadata": {},
   "outputs": [],
   "source": [
    "movies_genres_df.to_sql('movie_genre', con=con, if_exists='replace', index=False)"
   ]
  },
  {
   "cell_type": "code",
   "execution_count": 15,
   "id": "188f9410",
   "metadata": {},
   "outputs": [],
   "source": [
    "movies_final_df.to_sql('movies', con=con, if_exists='replace', index=False)"
   ]
  },
  {
   "cell_type": "code",
   "execution_count": 16,
   "id": "2a2704d4",
   "metadata": {},
   "outputs": [],
   "source": [
    "con.close()"
   ]
  },
  {
   "cell_type": "code",
   "execution_count": null,
   "id": "6b22cda2-bdd0-4dec-b0ed-3c13287b8237",
   "metadata": {},
   "outputs": [],
   "source": []
  }
 ],
 "metadata": {
  "kernelspec": {
   "display_name": "Python 3 (ipykernel)",
   "language": "python",
   "name": "python3"
  },
  "language_info": {
   "codemirror_mode": {
    "name": "ipython",
    "version": 3
   },
   "file_extension": ".py",
   "mimetype": "text/x-python",
   "name": "python",
   "nbconvert_exporter": "python",
   "pygments_lexer": "ipython3",
   "version": "3.9.7"
  }
 },
 "nbformat": 4,
 "nbformat_minor": 5
}
