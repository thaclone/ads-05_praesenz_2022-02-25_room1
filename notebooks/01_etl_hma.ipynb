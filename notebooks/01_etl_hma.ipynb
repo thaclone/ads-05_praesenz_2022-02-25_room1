{
 "cells": [
  {
   "cell_type": "code",
   "execution_count": null,
   "id": "db6bd80c",
   "metadata": {},
   "outputs": [],
   "source": [
    "import pandas as pd\n",
    "import ast\n",
    "import numpy\n",
    "import sqlite3 as sql\n",
    "import os"
   ]
  },
  {
   "cell_type": "code",
   "execution_count": null,
   "id": "b91b1464",
   "metadata": {},
   "outputs": [],
   "source": [
    "#vars\n",
    "input_folder = os.path.join('..','input')\n",
    "SQLITE_FILE_PATH = os.path.join('..', \"output\", \"dwh.sqlite3\")"
   ]
  },
  {
   "cell_type": "code",
   "execution_count": null,
   "id": "23cbbc66",
   "metadata": {
    "scrolled": false
   },
   "outputs": [],
   "source": [
    "movies_df = pd.read_csv(os.path.join(input_folder,'movies_metadata.csv'))"
   ]
  },
  {
   "cell_type": "code",
   "execution_count": null,
   "id": "4d6107ee",
   "metadata": {},
   "outputs": [],
   "source": [
    "# buggy rows\n",
    "buggy_rows = movies_df.loc[~movies_df[\"id\"].str.isdigit()]"
   ]
  },
  {
   "cell_type": "code",
   "execution_count": null,
   "id": "8847721a",
   "metadata": {},
   "outputs": [],
   "source": [
    "movies_df.drop(buggy_rows.index, inplace=True)"
   ]
  },
  {
   "cell_type": "code",
   "execution_count": null,
   "id": "4c02c133",
   "metadata": {},
   "outputs": [],
   "source": [
    "movies_genres = []\n",
    "genre_names = [] "
   ]
  },
  {
   "cell_type": "code",
   "execution_count": null,
   "id": "ec3a2b0d",
   "metadata": {},
   "outputs": [],
   "source": [
    "for index, row in movies_df.iterrows():\n",
    "    genres = ast.literal_eval(row[\"genres\"])\n",
    "    for genre in genres:        \n",
    "        genre_names.append(genre)           \n",
    "        movie_genre = dict(\n",
    "            movie_id=row['id'],\n",
    "            genre_id=genre['id'],\n",
    "        )   \n",
    "        movies_genres.append(movie_genre)"
   ]
  },
  {
   "cell_type": "code",
   "execution_count": null,
   "id": "d214f9ec",
   "metadata": {},
   "outputs": [],
   "source": [
    "movies_genres_df = pd.DataFrame(movies_genres)"
   ]
  },
  {
   "cell_type": "code",
   "execution_count": null,
   "id": "7fa18485",
   "metadata": {},
   "outputs": [],
   "source": [
    "genre_names_df = pd.DataFrame(genre_names).drop_duplicates()"
   ]
  },
  {
   "cell_type": "code",
   "execution_count": null,
   "id": "a040b92a",
   "metadata": {},
   "outputs": [],
   "source": [
    "movies_final_df = movies_df[['id','adult','budget','homepage','imdb_id','original_language','original_title','overview', 'popularity','poster_path','revenue','title']]"
   ]
  },
  {
   "cell_type": "code",
   "execution_count": null,
   "id": "d7df7b85",
   "metadata": {},
   "outputs": [],
   "source": [
    "movies_final_df['budget'] = movies_final_df['budget'].astype(int)\n",
    "movies_final_df['id'] = movies_final_df['id'].astype(int)\n",
    "movies_final_df['popularity'] = movies_final_df['popularity'].astype(float)"
   ]
  },
  {
   "cell_type": "code",
   "execution_count": null,
   "id": "8ce7637d",
   "metadata": {},
   "outputs": [],
   "source": [
    "con = sql.connect(SQLITE_FILE_PATH)"
   ]
  },
  {
   "cell_type": "code",
   "execution_count": null,
   "id": "a63899e0",
   "metadata": {},
   "outputs": [],
   "source": [
    "genre_names_df.to_sql('genres', con=con, if_exists='replace', index=False)"
   ]
  },
  {
   "cell_type": "code",
   "execution_count": null,
   "id": "59e25da1",
   "metadata": {},
   "outputs": [],
   "source": [
    "movies_genres_df.to_sql('movie_genre', con=con, if_exists='replace', index=False)"
   ]
  },
  {
   "cell_type": "code",
   "execution_count": null,
   "id": "188f9410",
   "metadata": {},
   "outputs": [],
   "source": [
    "movies_final_df.to_sql('movies', con=con, if_exists='replace', index=False)"
   ]
  },
  {
   "cell_type": "code",
   "execution_count": null,
   "id": "2a2704d4",
   "metadata": {},
   "outputs": [],
   "source": [
    "con.close()"
   ]
  }
 ],
 "metadata": {
  "kernelspec": {
   "display_name": "Python 3",
   "language": "python",
   "name": "python3"
  },
  "language_info": {
   "codemirror_mode": {
    "name": "ipython",
    "version": 3
   },
   "file_extension": ".py",
   "mimetype": "text/x-python",
   "name": "python",
   "nbconvert_exporter": "python",
   "pygments_lexer": "ipython3",
   "version": "3.9.4"
  }
 },
 "nbformat": 4,
 "nbformat_minor": 5
}
